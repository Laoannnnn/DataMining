{
 "cells": [
  {
   "cell_type": "code",
   "execution_count": 2,
   "metadata": {},
   "outputs": [],
   "source": [
    "import numpy as np\n",
    "import pandas as pd\n",
    "import matplotlib.pyplot as plt"
   ]
  },
  {
   "cell_type": "markdown",
   "metadata": {},
   "source": [
    "以2016年的数据为例："
   ]
  },
  {
   "cell_type": "code",
   "execution_count": 5,
   "metadata": {},
   "outputs": [],
   "source": [
    "path = \"../Dataset/oakland-crime-statistics-2011-to-2016/\"\n",
    "file = \"records-for-2016.csv\""
   ]
  },
  {
   "cell_type": "code",
   "execution_count": 9,
   "metadata": {},
   "outputs": [],
   "source": [
    "df = pd.read_csv(path + file)"
   ]
  },
  {
   "cell_type": "code",
   "execution_count": 14,
   "metadata": {},
   "outputs": [
    {
     "data": {
      "text/html": [
       "<div>\n",
       "<style scoped>\n",
       "    .dataframe tbody tr th:only-of-type {\n",
       "        vertical-align: middle;\n",
       "    }\n",
       "\n",
       "    .dataframe tbody tr th {\n",
       "        vertical-align: top;\n",
       "    }\n",
       "\n",
       "    .dataframe thead th {\n",
       "        text-align: right;\n",
       "    }\n",
       "</style>\n",
       "<table border=\"1\" class=\"dataframe\">\n",
       "  <thead>\n",
       "    <tr style=\"text-align: right;\">\n",
       "      <th></th>\n",
       "      <th>Agency</th>\n",
       "      <th>Create Time</th>\n",
       "      <th>Location</th>\n",
       "      <th>Area Id</th>\n",
       "      <th>Beat</th>\n",
       "      <th>Priority</th>\n",
       "      <th>Incident Type Id</th>\n",
       "      <th>Incident Type Description</th>\n",
       "      <th>Event Number</th>\n",
       "      <th>Closed Time</th>\n",
       "    </tr>\n",
       "  </thead>\n",
       "  <tbody>\n",
       "    <tr>\n",
       "      <th>0</th>\n",
       "      <td>OP</td>\n",
       "      <td>2016-01-01T00:00:57.000</td>\n",
       "      <td>ST&amp;MARKET ST</td>\n",
       "      <td>P1</td>\n",
       "      <td>05X</td>\n",
       "      <td>2.0</td>\n",
       "      <td>415GS</td>\n",
       "      <td>415 GUNSHOTS</td>\n",
       "      <td>LOP160101000003</td>\n",
       "      <td>2016-01-01T00:32:30.000</td>\n",
       "    </tr>\n",
       "    <tr>\n",
       "      <th>1</th>\n",
       "      <td>OP</td>\n",
       "      <td>2016-01-01T00:01:25.000</td>\n",
       "      <td>AV&amp;HAMILTON ST</td>\n",
       "      <td>P3</td>\n",
       "      <td>26Y</td>\n",
       "      <td>2.0</td>\n",
       "      <td>415GS</td>\n",
       "      <td>415 GUNSHOTS</td>\n",
       "      <td>LOP160101000005</td>\n",
       "      <td>2016-01-01T00:48:23.000</td>\n",
       "    </tr>\n",
       "    <tr>\n",
       "      <th>2</th>\n",
       "      <td>OP</td>\n",
       "      <td>2016-01-01T00:01:43.000</td>\n",
       "      <td>ST&amp;CHESTNUT ST</td>\n",
       "      <td>P1</td>\n",
       "      <td>02X</td>\n",
       "      <td>2.0</td>\n",
       "      <td>415GS</td>\n",
       "      <td>415 GUNSHOTS</td>\n",
       "      <td>LOP160101000008</td>\n",
       "      <td>2016-01-01T00:21:24.000</td>\n",
       "    </tr>\n",
       "    <tr>\n",
       "      <th>3</th>\n",
       "      <td>OP</td>\n",
       "      <td>2016-01-01T00:01:48.000</td>\n",
       "      <td>WALLACE ST</td>\n",
       "      <td>P2</td>\n",
       "      <td>18Y</td>\n",
       "      <td>2.0</td>\n",
       "      <td>415GS</td>\n",
       "      <td>415 GUNSHOTS</td>\n",
       "      <td>LOP160101000007</td>\n",
       "      <td>2016-01-01T01:15:03.000</td>\n",
       "    </tr>\n",
       "    <tr>\n",
       "      <th>4</th>\n",
       "      <td>OP</td>\n",
       "      <td>2016-01-01T00:02:05.000</td>\n",
       "      <td>90TH AV</td>\n",
       "      <td>P3</td>\n",
       "      <td>34X</td>\n",
       "      <td>2.0</td>\n",
       "      <td>415GS</td>\n",
       "      <td>415 GUNSHOTS</td>\n",
       "      <td>LOP160101000009</td>\n",
       "      <td>2016-01-01T00:54:52.000</td>\n",
       "    </tr>\n",
       "  </tbody>\n",
       "</table>\n",
       "</div>"
      ],
      "text/plain": [
       "  Agency              Create Time             Location Area Id Beat  Priority  \\\n",
       "0     OP  2016-01-01T00:00:57.000     ST&MARKET ST          P1  05X       2.0   \n",
       "1     OP  2016-01-01T00:01:25.000   AV&HAMILTON ST          P3  26Y       2.0   \n",
       "2     OP  2016-01-01T00:01:43.000   ST&CHESTNUT ST          P1  02X       2.0   \n",
       "3     OP  2016-01-01T00:01:48.000       WALLACE ST          P2  18Y       2.0   \n",
       "4     OP  2016-01-01T00:02:05.000          90TH AV          P3  34X       2.0   \n",
       "\n",
       "  Incident Type Id Incident Type Description     Event Number  \\\n",
       "0            415GS              415 GUNSHOTS  LOP160101000003   \n",
       "1            415GS              415 GUNSHOTS  LOP160101000005   \n",
       "2            415GS              415 GUNSHOTS  LOP160101000008   \n",
       "3            415GS              415 GUNSHOTS  LOP160101000007   \n",
       "4            415GS              415 GUNSHOTS  LOP160101000009   \n",
       "\n",
       "               Closed Time  \n",
       "0  2016-01-01T00:32:30.000  \n",
       "1  2016-01-01T00:48:23.000  \n",
       "2  2016-01-01T00:21:24.000  \n",
       "3  2016-01-01T01:15:03.000  \n",
       "4  2016-01-01T00:54:52.000  "
      ]
     },
     "execution_count": 14,
     "metadata": {},
     "output_type": "execute_result"
    }
   ],
   "source": [
    "df.head()"
   ]
  },
  {
   "cell_type": "markdown",
   "metadata": {},
   "source": [
    "# 数据可视化和摘要\n",
    "## 数据摘要  "
   ]
  },
  {
   "cell_type": "code",
   "execution_count": 7,
   "metadata": {},
   "outputs": [
    {
     "name": "stdout",
     "output_type": "stream",
     "text": [
      "<class 'pandas.core.frame.DataFrame'>\n",
      "RangeIndex: 110828 entries, 0 to 110827\n",
      "Data columns (total 10 columns):\n",
      "Agency                       110827 non-null object\n",
      "Create Time                  110827 non-null object\n",
      "Location                     110828 non-null object\n",
      "Area Id                      110827 non-null object\n",
      "Beat                         110247 non-null object\n",
      "Priority                     110827 non-null float64\n",
      "Incident Type Id             110827 non-null object\n",
      "Incident Type Description    110827 non-null object\n",
      "Event Number                 110827 non-null object\n",
      "Closed Time                  110827 non-null object\n",
      "dtypes: float64(1), object(9)\n",
      "memory usage: 8.5+ MB\n"
     ]
    }
   ],
   "source": [
    "df.info()"
   ]
  },
  {
   "cell_type": "markdown",
   "metadata": {},
   "source": [
    "### 标称属性\n",
    "* Agency、Location、Area Id、Beat、Priority、Incident Type Id、Incident Type Description\n",
    "* 给出每个可能聚会的频数  \n",
    "\n",
    "#### Agency\n",
    "**Agency**全部为 'OP':"
   ]
  },
  {
   "cell_type": "code",
   "execution_count": 15,
   "metadata": {},
   "outputs": [
    {
     "data": {
      "text/plain": [
       "<matplotlib.axes._subplots.AxesSubplot at 0x194ca219438>"
      ]
     },
     "execution_count": 15,
     "metadata": {},
     "output_type": "execute_result"
    },
    {
     "data": {
      "image/png": "[encoded data removed]",
      "text/plain": [
       "<Figure size 432x288 with 1 Axes>"
      ]
     },
     "metadata": {
      "needs_background": "light"
     },
     "output_type": "display_data"
    }
   ],
   "source": [
    "df['Agency'].value_counts().plot.bar()"
   ]
  },
  {
   "cell_type": "markdown",
   "metadata": {},
   "source": [
    "#### Location\n",
    "* 由于**Location**属性的取值较多，所以取频数为前50的进行可视化，以便于观察。"
   ]
  },
  {
   "cell_type": "code",
   "execution_count": 77,
   "metadata": {},
   "outputs": [],
   "source": [
    "df['Location'] = df['Location'].map(lambda x: x.strip())"
   ]
  },
  {
   "cell_type": "code",
   "execution_count": 78,
   "metadata": {},
   "outputs": [
    {
     "data": {
      "text/plain": [
       "INTERNATIONAL BLVD       2156\n",
       "AV&INTERNATIONAL BLVD    1829\n",
       "MACARTHUR BLVD           1813\n",
       "BROADWAY                 1476\n",
       "7TH ST                   1224\n",
       "                         ... \n",
       "26TH CRESTMONT DR           1\n",
       "37TH WEBSTER ST             1\n",
       "73RD FILBERT ST             1\n",
       "79TH ORRAL ST               1\n",
       "3RD TRESTLE GLEN RD         1\n",
       "Name: Location, Length: 24001, dtype: int64"
      ]
     },
     "execution_count": 78,
     "metadata": {},
     "output_type": "execute_result"
    }
   ],
   "source": [
    "df['Location'].value_counts()"
   ]
  },
  {
   "cell_type": "code",
   "execution_count": 79,
   "metadata": {},
   "outputs": [
    {
     "data": {
      "text/plain": [
       "<matplotlib.axes._subplots.AxesSubplot at 0x19488a37cc0>"
      ]
     },
     "execution_count": 79,
     "metadata": {},
     "output_type": "execute_result"
    },
    {
     "data": {
      "image/png": "[encoded data removed]",
      "text/plain": [
       "<Figure size 432x288 with 1 Axes>"
      ]
     },
     "metadata": {
      "needs_background": "light"
     },
     "output_type": "display_data"
    }
   ],
   "source": [
    "df['Location'].value_counts().head(50).plot.bar()"
   ]
  },
  {
   "cell_type": "markdown",
   "metadata": {},
   "source": [
    "#### Area Id"
   ]
  },
  {
   "cell_type": "code",
   "execution_count": 43,
   "metadata": {},
   "outputs": [
    {
     "data": {
      "text/plain": [
       "P3     47425\n",
       "P1     41419\n",
       "P2     19610\n",
       "POU     2173\n",
       "PCW      194\n",
       "TEC        4\n",
       "JLS        1\n",
       "WAG        1\n",
       "Name: Area Id, dtype: int64"
      ]
     },
     "execution_count": 43,
     "metadata": {},
     "output_type": "execute_result"
    }
   ],
   "source": [
    "df['Area Id'].value_counts()"
   ]
  },
  {
   "cell_type": "code",
   "execution_count": 24,
   "metadata": {},
   "outputs": [
    {
     "data": {
      "text/plain": [
       "<matplotlib.axes._subplots.AxesSubplot at 0x194cee842e8>"
      ]
     },
     "execution_count": 24,
     "metadata": {},
     "output_type": "execute_result"
    },
    {
     "data": {
      "image/png": "[encoded data removed]",
      "text/plain": [
       "<Figure size 432x288 with 1 Axes>"
      ]
     },
     "metadata": {
      "needs_background": "light"
     },
     "output_type": "display_data"
    }
   ],
   "source": [
    "df['Area Id'].value_counts().plot.bar()"
   ]
  },
  {
   "cell_type": "markdown",
   "metadata": {},
   "source": [
    "#### Beat\n",
    "**Beat**相当于“片警”，管理的区域差不多就社区大小。"
   ]
  },
  {
   "cell_type": "code",
   "execution_count": 44,
   "metadata": {},
   "outputs": [
    {
     "data": {
      "text/plain": [
       "04X     4515\n",
       "08X     3931\n",
       "26Y     3511\n",
       "30Y     3473\n",
       "19X     3455\n",
       "30X     3416\n",
       "03X     3195\n",
       "23X     3076\n",
       "34X     2857\n",
       "07X     2831\n",
       "20X     2702\n",
       "29X     2646\n",
       "06X     2580\n",
       "03Y     2562\n",
       "27Y     2517\n",
       "25X     2467\n",
       "31Y     2460\n",
       "27X     2333\n",
       "35X     2328\n",
       "32X     2316\n",
       "33X     2276\n",
       "09X     2158\n",
       "21Y     2100\n",
       "32Y     2093\n",
       "12Y     1987\n",
       "14X     1832\n",
       "26X     1766\n",
       "02X     1746\n",
       "24X     1704\n",
       "02Y     1659\n",
       "10Y     1573\n",
       "10X     1557\n",
       "22X     1541\n",
       "17Y     1482\n",
       "21X     1479\n",
       "24Y     1454\n",
       "31X     1439\n",
       "22Y     1420\n",
       "13Z     1397\n",
       "15X     1393\n",
       "05X     1342\n",
       "01X     1304\n",
       "12X     1299\n",
       "31Z     1268\n",
       "28X     1261\n",
       "11X     1208\n",
       "35Y     1159\n",
       "18Y     1102\n",
       "14Y     1027\n",
       "17X      969\n",
       "13Y      952\n",
       "16Y      907\n",
       "25Y      739\n",
       "18X      721\n",
       "16X      708\n",
       "13X      630\n",
       "05Y      408\n",
       "PDT2      16\n",
       "Name: Beat, dtype: int64"
      ]
     },
     "execution_count": 44,
     "metadata": {},
     "output_type": "execute_result"
    }
   ],
   "source": [
    "df['Beat'].value_counts()"
   ]
  },
  {
   "cell_type": "code",
   "execution_count": 38,
   "metadata": {},
   "outputs": [
    {
     "data": {
      "text/plain": [
       "<matplotlib.axes._subplots.AxesSubplot at 0x19485faa940>"
      ]
     },
     "execution_count": 38,
     "metadata": {},
     "output_type": "execute_result"
    },
    {
     "data": {
      "image/png": "[encoded data removed]",
      "text/plain": [
       "<Figure size 432x288 with 1 Axes>"
      ]
     },
     "metadata": {
      "needs_background": "light"
     },
     "output_type": "display_data"
    }
   ],
   "source": [
    "df['Beat'].value_counts().plot.bar()"
   ]
  },
  {
   "cell_type": "markdown",
   "metadata": {},
   "source": [
    "#### Priority\n",
    "**Priority**取值为1或2："
   ]
  },
  {
   "cell_type": "code",
   "execution_count": 41,
   "metadata": {},
   "outputs": [
    {
     "data": {
      "text/plain": [
       "<matplotlib.axes._subplots.AxesSubplot at 0x194cb9f23c8>"
      ]
     },
     "execution_count": 41,
     "metadata": {},
     "output_type": "execute_result"
    },
    {
     "data": {
      "image/png": "[encoded data removed]",
      "text/plain": [
       "<Figure size 432x288 with 1 Axes>"
      ]
     },
     "metadata": {
      "needs_background": "light"
     },
     "output_type": "display_data"
    }
   ],
   "source": [
    "df['Priority'].value_counts().plot.bar()"
   ]
  },
  {
   "cell_type": "markdown",
   "metadata": {},
   "source": [
    "#### Incident Type Id\n",
    "* 由于**Incident Type Id**属性的取值较多，所以取频数为前50的进行可视化，以便于观察。"
   ]
  },
  {
   "cell_type": "code",
   "execution_count": 28,
   "metadata": {},
   "outputs": [
    {
     "data": {
      "text/plain": [
       "<matplotlib.axes._subplots.AxesSubplot at 0x194d7082860>"
      ]
     },
     "execution_count": 28,
     "metadata": {},
     "output_type": "execute_result"
    },
    {
     "data": {
      "image/png": "[encoded data removed]",
      "text/plain": [
       "<Figure size 432x288 with 1 Axes>"
      ]
     },
     "metadata": {
      "needs_background": "light"
     },
     "output_type": "display_data"
    }
   ],
   "source": [
    "df['Incident Type Id'].value_counts().head(50).plot.bar()"
   ]
  },
  {
   "cell_type": "markdown",
   "metadata": {},
   "source": [
    "#### Incident Type Description\n",
    "* **Incident Type Description**和**Incident Type Id**对应，也只取前50："
   ]
  },
  {
   "cell_type": "code",
   "execution_count": 33,
   "metadata": {},
   "outputs": [
    {
     "data": {
      "text/plain": [
       "<matplotlib.axes._subplots.AxesSubplot at 0x194cc0830b8>"
      ]
     },
     "execution_count": 33,
     "metadata": {},
     "output_type": "execute_result"
    },
    {
     "data": {
      "image/png": "[encoded data removed]",
      "text/plain": [
       "<Figure size 432x288 with 1 Axes>"
      ]
     },
     "metadata": {
      "needs_background": "light"
     },
     "output_type": "display_data"
    }
   ],
   "source": [
    "df['Incident Type Description'].value_counts().head(50).plot.bar()"
   ]
  },
  {
   "cell_type": "markdown",
   "metadata": {},
   "source": [
    "### 数值属性\n",
    "* 无数值属性\n",
    "\n",
    "# 数据缺失的处理\n",
    "## 观察数据集中缺失数据，分析其缺失的原因\n",
    "* **Beat**属性缺失值最多，**Location**属性没有缺失值，其余均为1个。"
   ]
  },
  {
   "cell_type": "code",
   "execution_count": 46,
   "metadata": {},
   "outputs": [
    {
     "data": {
      "text/plain": [
       "Beat                         581\n",
       "Closed Time                    1\n",
       "Event Number                   1\n",
       "Incident Type Description      1\n",
       "Incident Type Id               1\n",
       "Priority                       1\n",
       "Area Id                        1\n",
       "Create Time                    1\n",
       "Agency                         1\n",
       "Location                       0\n",
       "dtype: int64"
      ]
     },
     "execution_count": 46,
     "metadata": {},
     "output_type": "execute_result"
    }
   ],
   "source": [
    "total = df.isnull().sum().sort_values(ascending = False)\n",
    "total"
   ]
  },
  {
   "cell_type": "markdown",
   "metadata": {},
   "source": [
    "查看该记录，是一条没有意义的记录："
   ]
  },
  {
   "cell_type": "code",
   "execution_count": 47,
   "metadata": {
    "scrolled": true
   },
   "outputs": [
    {
     "data": {
      "text/html": [
       "<div>\n",
       "<style scoped>\n",
       "    .dataframe tbody tr th:only-of-type {\n",
       "        vertical-align: middle;\n",
       "    }\n",
       "\n",
       "    .dataframe tbody tr th {\n",
       "        vertical-align: top;\n",
       "    }\n",
       "\n",
       "    .dataframe thead th {\n",
       "        text-align: right;\n",
       "    }\n",
       "</style>\n",
       "<table border=\"1\" class=\"dataframe\">\n",
       "  <thead>\n",
       "    <tr style=\"text-align: right;\">\n",
       "      <th></th>\n",
       "      <th>Agency</th>\n",
       "      <th>Create Time</th>\n",
       "      <th>Location</th>\n",
       "      <th>Area Id</th>\n",
       "      <th>Beat</th>\n",
       "      <th>Priority</th>\n",
       "      <th>Incident Type Id</th>\n",
       "      <th>Incident Type Description</th>\n",
       "      <th>Event Number</th>\n",
       "      <th>Closed Time</th>\n",
       "    </tr>\n",
       "  </thead>\n",
       "  <tbody>\n",
       "    <tr>\n",
       "      <th>110827</th>\n",
       "      <td>NaN</td>\n",
       "      <td>NaN</td>\n",
       "      <td></td>\n",
       "      <td>NaN</td>\n",
       "      <td>NaN</td>\n",
       "      <td>NaN</td>\n",
       "      <td>NaN</td>\n",
       "      <td>NaN</td>\n",
       "      <td>NaN</td>\n",
       "      <td>NaN</td>\n",
       "    </tr>\n",
       "  </tbody>\n",
       "</table>\n",
       "</div>"
      ],
      "text/plain": [
       "       Agency Create Time Location Area Id Beat  Priority Incident Type Id  \\\n",
       "110827    NaN         NaN              NaN  NaN       NaN              NaN   \n",
       "\n",
       "       Incident Type Description Event Number Closed Time  \n",
       "110827                       NaN          NaN         NaN  "
      ]
     },
     "execution_count": 47,
     "metadata": {},
     "output_type": "execute_result"
    }
   ],
   "source": [
    "df[df['Closed Time'].isnull()]"
   ]
  },
  {
   "cell_type": "markdown",
   "metadata": {},
   "source": [
    "## 将缺失部分剔除\n",
    "剔除后，还剩下110247条数据："
   ]
  },
  {
   "cell_type": "code",
   "execution_count": 57,
   "metadata": {
    "scrolled": true
   },
   "outputs": [],
   "source": [
    "df1 = df.copy(deep=True)\n",
    "df1 = df1.dropna()"
   ]
  },
  {
   "cell_type": "code",
   "execution_count": 58,
   "metadata": {},
   "outputs": [
    {
     "name": "stdout",
     "output_type": "stream",
     "text": [
      "<class 'pandas.core.frame.DataFrame'>\n",
      "Int64Index: 110247 entries, 0 to 110826\n",
      "Data columns (total 10 columns):\n",
      "Agency                       110247 non-null object\n",
      "Create Time                  110247 non-null object\n",
      "Location                     110247 non-null object\n",
      "Area Id                      110247 non-null object\n",
      "Beat                         110247 non-null object\n",
      "Priority                     110247 non-null float64\n",
      "Incident Type Id             110247 non-null object\n",
      "Incident Type Description    110247 non-null object\n",
      "Event Number                 110247 non-null object\n",
      "Closed Time                  110247 non-null object\n",
      "dtypes: float64(1), object(9)\n",
      "memory usage: 9.3+ MB\n"
     ]
    }
   ],
   "source": [
    "df1.info()"
   ]
  },
  {
   "cell_type": "markdown",
   "metadata": {},
   "source": [
    "## 用最高频率值来填补缺失值\n"
   ]
  },
  {
   "cell_type": "code",
   "execution_count": 59,
   "metadata": {},
   "outputs": [],
   "source": [
    "df1 = df.copy(deep=True)\n",
    "# Agency\n",
    "most = df1['Agency'].value_counts().index[0]\n",
    "df1['Agency'] = df1['Agency'].fillna(most)\n",
    "# Create Time\n",
    "most = df1['Create Time'].value_counts().index[0]\n",
    "df1['Create Time'] = df1['Create Time'].fillna(most)\n",
    "# Area Id\n",
    "most = df1['Area Id'].value_counts().index[0]\n",
    "df1['Area Id'] = df1['Area Id'].fillna(most)\n",
    "# Beat\n",
    "most = df1['Beat'].value_counts().index[0]\n",
    "df1['Beat'] = df1['Beat'].fillna(most)\n",
    "# Priority\n",
    "most = df1['Priority'].value_counts().index[0]\n",
    "df1['Priority'] = df1['Priority'].fillna(most)\n",
    "# Incident Type Id\n",
    "most = df1['Incident Type Id'].value_counts().index[0]\n",
    "df1['Incident Type Id'] = df1['Incident Type Id'].fillna(most)\n",
    "# Incident Type Description\n",
    "most = df1['Incident Type Description'].value_counts().index[0]\n",
    "df1['Incident Type Description'] = df1['Incident Type Description'].fillna(most)\n",
    "# Event Number\n",
    "most = df1['Event Number'].value_counts().index[0]\n",
    "df1['Event Number'] = df1['Event Number'].fillna(most)\n",
    "# Closed Time\n",
    "most = df1['Closed Time'].value_counts().index[0]\n",
    "df1['Closed Time'] = df1['Closed Time'].fillna(most)"
   ]
  },
  {
   "cell_type": "code",
   "execution_count": 60,
   "metadata": {},
   "outputs": [
    {
     "name": "stdout",
     "output_type": "stream",
     "text": [
      "<class 'pandas.core.frame.DataFrame'>\n",
      "RangeIndex: 110828 entries, 0 to 110827\n",
      "Data columns (total 10 columns):\n",
      "Agency                       110828 non-null object\n",
      "Create Time                  110828 non-null object\n",
      "Location                     110828 non-null object\n",
      "Area Id                      110828 non-null object\n",
      "Beat                         110828 non-null object\n",
      "Priority                     110828 non-null float64\n",
      "Incident Type Id             110828 non-null object\n",
      "Incident Type Description    110828 non-null object\n",
      "Event Number                 110828 non-null object\n",
      "Closed Time                  110828 non-null object\n",
      "dtypes: float64(1), object(9)\n",
      "memory usage: 8.5+ MB\n"
     ]
    }
   ],
   "source": [
    "df1.info()"
   ]
  },
  {
   "cell_type": "markdown",
   "metadata": {},
   "source": [
    "可以看到，填补缺失值后，**Beat**属性取值最高频已超过5000："
   ]
  },
  {
   "cell_type": "code",
   "execution_count": 61,
   "metadata": {},
   "outputs": [
    {
     "data": {
      "text/plain": [
       "<matplotlib.axes._subplots.AxesSubplot at 0x194860fd898>"
      ]
     },
     "execution_count": 61,
     "metadata": {},
     "output_type": "execute_result"
    },
    {
     "data": {
      "image/png": "[encoded data removed]",
      "text/plain": [
       "<Figure size 432x288 with 1 Axes>"
      ]
     },
     "metadata": {
      "needs_background": "light"
     },
     "output_type": "display_data"
    }
   ],
   "source": [
    "df1['Beat'].value_counts().plot.bar()"
   ]
  },
  {
   "cell_type": "markdown",
   "metadata": {},
   "source": [
    "## 通过属性的相关关系来填补缺失值\n",
    "首先将此条记录删除，因为无法通过属性的相关关系来填补："
   ]
  },
  {
   "cell_type": "code",
   "execution_count": 62,
   "metadata": {
    "scrolled": true
   },
   "outputs": [
    {
     "data": {
      "text/html": [
       "<div>\n",
       "<style scoped>\n",
       "    .dataframe tbody tr th:only-of-type {\n",
       "        vertical-align: middle;\n",
       "    }\n",
       "\n",
       "    .dataframe tbody tr th {\n",
       "        vertical-align: top;\n",
       "    }\n",
       "\n",
       "    .dataframe thead th {\n",
       "        text-align: right;\n",
       "    }\n",
       "</style>\n",
       "<table border=\"1\" class=\"dataframe\">\n",
       "  <thead>\n",
       "    <tr style=\"text-align: right;\">\n",
       "      <th></th>\n",
       "      <th>Agency</th>\n",
       "      <th>Create Time</th>\n",
       "      <th>Location</th>\n",
       "      <th>Area Id</th>\n",
       "      <th>Beat</th>\n",
       "      <th>Priority</th>\n",
       "      <th>Incident Type Id</th>\n",
       "      <th>Incident Type Description</th>\n",
       "      <th>Event Number</th>\n",
       "      <th>Closed Time</th>\n",
       "    </tr>\n",
       "  </thead>\n",
       "  <tbody>\n",
       "    <tr>\n",
       "      <th>110827</th>\n",
       "      <td>NaN</td>\n",
       "      <td>NaN</td>\n",
       "      <td></td>\n",
       "      <td>NaN</td>\n",
       "      <td>NaN</td>\n",
       "      <td>NaN</td>\n",
       "      <td>NaN</td>\n",
       "      <td>NaN</td>\n",
       "      <td>NaN</td>\n",
       "      <td>NaN</td>\n",
       "    </tr>\n",
       "  </tbody>\n",
       "</table>\n",
       "</div>"
      ],
      "text/plain": [
       "       Agency Create Time Location Area Id Beat  Priority Incident Type Id  \\\n",
       "110827    NaN         NaN              NaN  NaN       NaN              NaN   \n",
       "\n",
       "       Incident Type Description Event Number Closed Time  \n",
       "110827                       NaN          NaN         NaN  "
      ]
     },
     "execution_count": 62,
     "metadata": {},
     "output_type": "execute_result"
    }
   ],
   "source": [
    "df[df['Agency'].isnull()]"
   ]
  },
  {
   "cell_type": "code",
   "execution_count": 80,
   "metadata": {},
   "outputs": [],
   "source": [
    "df1 = df.copy(deep=True)\n",
    "df1 = df1.dropna(subset=['Agency'])"
   ]
  },
  {
   "cell_type": "code",
   "execution_count": 88,
   "metadata": {
    "scrolled": true
   },
   "outputs": [
    {
     "data": {
      "text/html": [
       "<div>\n",
       "<style scoped>\n",
       "    .dataframe tbody tr th:only-of-type {\n",
       "        vertical-align: middle;\n",
       "    }\n",
       "\n",
       "    .dataframe tbody tr th {\n",
       "        vertical-align: top;\n",
       "    }\n",
       "\n",
       "    .dataframe thead th {\n",
       "        text-align: right;\n",
       "    }\n",
       "</style>\n",
       "<table border=\"1\" class=\"dataframe\">\n",
       "  <thead>\n",
       "    <tr style=\"text-align: right;\">\n",
       "      <th></th>\n",
       "      <th>Agency</th>\n",
       "      <th>Create Time</th>\n",
       "      <th>Location</th>\n",
       "      <th>Area Id</th>\n",
       "      <th>Beat</th>\n",
       "      <th>Priority</th>\n",
       "      <th>Incident Type Id</th>\n",
       "      <th>Incident Type Description</th>\n",
       "      <th>Event Number</th>\n",
       "      <th>Closed Time</th>\n",
       "    </tr>\n",
       "  </thead>\n",
       "  <tbody>\n",
       "    <tr>\n",
       "      <th>1</th>\n",
       "      <td>OP</td>\n",
       "      <td>2016-01-01T00:01:25.000</td>\n",
       "      <td>AV&amp;HAMILTON ST</td>\n",
       "      <td>P3</td>\n",
       "      <td>26Y</td>\n",
       "      <td>2.0</td>\n",
       "      <td>415GS</td>\n",
       "      <td>415 GUNSHOTS</td>\n",
       "      <td>LOP160101000005</td>\n",
       "      <td>2016-01-01T00:48:23.000</td>\n",
       "    </tr>\n",
       "    <tr>\n",
       "      <th>4</th>\n",
       "      <td>OP</td>\n",
       "      <td>2016-01-01T00:02:05.000</td>\n",
       "      <td>90TH AV</td>\n",
       "      <td>P3</td>\n",
       "      <td>34X</td>\n",
       "      <td>2.0</td>\n",
       "      <td>415GS</td>\n",
       "      <td>415 GUNSHOTS</td>\n",
       "      <td>LOP160101000009</td>\n",
       "      <td>2016-01-01T00:54:52.000</td>\n",
       "    </tr>\n",
       "    <tr>\n",
       "      <th>6</th>\n",
       "      <td>OP</td>\n",
       "      <td>2016-01-01T00:03:20.000</td>\n",
       "      <td>PIPPIN ST</td>\n",
       "      <td>P3</td>\n",
       "      <td>31Z</td>\n",
       "      <td>2.0</td>\n",
       "      <td>415GS</td>\n",
       "      <td>415 GUNSHOTS</td>\n",
       "      <td>LOP160101000011</td>\n",
       "      <td>2016-01-01T01:11:59.000</td>\n",
       "    </tr>\n",
       "    <tr>\n",
       "      <th>7</th>\n",
       "      <td>OP</td>\n",
       "      <td>2016-01-01T00:03:32.000</td>\n",
       "      <td>POTTER ST</td>\n",
       "      <td>P3</td>\n",
       "      <td>27X</td>\n",
       "      <td>2.0</td>\n",
       "      <td>415FC</td>\n",
       "      <td>415 FIRE CRACKERS</td>\n",
       "      <td>LOP160101000012</td>\n",
       "      <td>2016-01-01T01:43:12.000</td>\n",
       "    </tr>\n",
       "    <tr>\n",
       "      <th>8</th>\n",
       "      <td>OP</td>\n",
       "      <td>2016-01-01T00:04:35.000</td>\n",
       "      <td>OUTLOOK AV</td>\n",
       "      <td>P3</td>\n",
       "      <td>30Y</td>\n",
       "      <td>2.0</td>\n",
       "      <td>933R</td>\n",
       "      <td>ALARM-RINGER</td>\n",
       "      <td>LOP160101000014</td>\n",
       "      <td>2016-01-01T00:11:13.000</td>\n",
       "    </tr>\n",
       "    <tr>\n",
       "      <th>...</th>\n",
       "      <td>...</td>\n",
       "      <td>...</td>\n",
       "      <td>...</td>\n",
       "      <td>...</td>\n",
       "      <td>...</td>\n",
       "      <td>...</td>\n",
       "      <td>...</td>\n",
       "      <td>...</td>\n",
       "      <td>...</td>\n",
       "      <td>...</td>\n",
       "    </tr>\n",
       "    <tr>\n",
       "      <th>110818</th>\n",
       "      <td>OP</td>\n",
       "      <td>2016-07-31T23:32:31.000</td>\n",
       "      <td>WB AV&amp;HOLLY ST</td>\n",
       "      <td>P3</td>\n",
       "      <td>34X</td>\n",
       "      <td>2.0</td>\n",
       "      <td>415LT</td>\n",
       "      <td>DISTURBANCE-LANDLORD</td>\n",
       "      <td>LOP160731000881</td>\n",
       "      <td>2016-08-01T00:00:27.000</td>\n",
       "    </tr>\n",
       "    <tr>\n",
       "      <th>110820</th>\n",
       "      <td>OP</td>\n",
       "      <td>2016-07-31T23:37:49.000</td>\n",
       "      <td>WB 84TH AV</td>\n",
       "      <td>P3</td>\n",
       "      <td>33X</td>\n",
       "      <td>2.0</td>\n",
       "      <td>5150</td>\n",
       "      <td>MENTALLY ILL</td>\n",
       "      <td>LOP160731000885</td>\n",
       "      <td>2016-08-01T00:42:43.000</td>\n",
       "    </tr>\n",
       "    <tr>\n",
       "      <th>110821</th>\n",
       "      <td>OP</td>\n",
       "      <td>2016-07-31T23:42:53.000</td>\n",
       "      <td>WB NAIROBI PL</td>\n",
       "      <td>P3</td>\n",
       "      <td>29X</td>\n",
       "      <td>2.0</td>\n",
       "      <td>SUSP</td>\n",
       "      <td>SUSPECT</td>\n",
       "      <td>LOP160731000887</td>\n",
       "      <td>2016-08-01T00:26:27.000</td>\n",
       "    </tr>\n",
       "    <tr>\n",
       "      <th>110824</th>\n",
       "      <td>OP</td>\n",
       "      <td>2016-07-31T23:50:54.000</td>\n",
       "      <td>WHITTLE 69TH AV</td>\n",
       "      <td>P3</td>\n",
       "      <td>26Y</td>\n",
       "      <td>2.0</td>\n",
       "      <td>415N</td>\n",
       "      <td>DISTURBANCE-NEIGHBOR</td>\n",
       "      <td>LOP160731000893</td>\n",
       "      <td>2016-08-01T00:08:00.000</td>\n",
       "    </tr>\n",
       "    <tr>\n",
       "      <th>110826</th>\n",
       "      <td>OP</td>\n",
       "      <td>2016-07-31T23:57:31.000</td>\n",
       "      <td>WYMAN LACEY AV</td>\n",
       "      <td>P3</td>\n",
       "      <td>29X</td>\n",
       "      <td>2.0</td>\n",
       "      <td>415</td>\n",
       "      <td>415 FAMILY</td>\n",
       "      <td>LOP160731000897</td>\n",
       "      <td>2016-08-01T00:16:16.000</td>\n",
       "    </tr>\n",
       "  </tbody>\n",
       "</table>\n",
       "<p>47425 rows × 10 columns</p>\n",
       "</div>"
      ],
      "text/plain": [
       "       Agency              Create Time         Location Area Id Beat  \\\n",
       "1          OP  2016-01-01T00:01:25.000   AV&HAMILTON ST      P3  26Y   \n",
       "4          OP  2016-01-01T00:02:05.000          90TH AV      P3  34X   \n",
       "6          OP  2016-01-01T00:03:20.000        PIPPIN ST      P3  31Z   \n",
       "7          OP  2016-01-01T00:03:32.000        POTTER ST      P3  27X   \n",
       "8          OP  2016-01-01T00:04:35.000       OUTLOOK AV      P3  30Y   \n",
       "...       ...                      ...              ...     ...  ...   \n",
       "110818     OP  2016-07-31T23:32:31.000   WB AV&HOLLY ST      P3  34X   \n",
       "110820     OP  2016-07-31T23:37:49.000       WB 84TH AV      P3  33X   \n",
       "110821     OP  2016-07-31T23:42:53.000    WB NAIROBI PL      P3  29X   \n",
       "110824     OP  2016-07-31T23:50:54.000  WHITTLE 69TH AV      P3  26Y   \n",
       "110826     OP  2016-07-31T23:57:31.000   WYMAN LACEY AV      P3  29X   \n",
       "\n",
       "        Priority Incident Type Id Incident Type Description     Event Number  \\\n",
       "1            2.0            415GS              415 GUNSHOTS  LOP160101000005   \n",
       "4            2.0            415GS              415 GUNSHOTS  LOP160101000009   \n",
       "6            2.0            415GS              415 GUNSHOTS  LOP160101000011   \n",
       "7            2.0            415FC         415 FIRE CRACKERS  LOP160101000012   \n",
       "8            2.0             933R              ALARM-RINGER  LOP160101000014   \n",
       "...          ...              ...                       ...              ...   \n",
       "110818       2.0            415LT      DISTURBANCE-LANDLORD  LOP160731000881   \n",
       "110820       2.0             5150              MENTALLY ILL  LOP160731000885   \n",
       "110821       2.0             SUSP                   SUSPECT  LOP160731000887   \n",
       "110824       2.0             415N      DISTURBANCE-NEIGHBOR  LOP160731000893   \n",
       "110826       2.0              415                415 FAMILY  LOP160731000897   \n",
       "\n",
       "                    Closed Time  \n",
       "1       2016-01-01T00:48:23.000  \n",
       "4       2016-01-01T00:54:52.000  \n",
       "6       2016-01-01T01:11:59.000  \n",
       "7       2016-01-01T01:43:12.000  \n",
       "8       2016-01-01T00:11:13.000  \n",
       "...                         ...  \n",
       "110818  2016-08-01T00:00:27.000  \n",
       "110820  2016-08-01T00:42:43.000  \n",
       "110821  2016-08-01T00:26:27.000  \n",
       "110824  2016-08-01T00:08:00.000  \n",
       "110826  2016-08-01T00:16:16.000  \n",
       "\n",
       "[47425 rows x 10 columns]"
      ]
     },
     "execution_count": 88,
     "metadata": {},
     "output_type": "execute_result"
    }
   ],
   "source": [
    "# df1[(df1['Location']=='76TH AVE') & (df1['Area Id']=='P3')]\n",
    "df1[df1['Area Id']=='P3']\n",
    "# df1[df1['Location']=='76TH AVE']\n",
    "# df1[df1['Event Number']=='LOP160101000465']"
   ]
  },
  {
   "cell_type": "code",
   "execution_count": 89,
   "metadata": {},
   "outputs": [
    {
     "name": "stdout",
     "output_type": "stream",
     "text": [
      "Beat\n",
      "01X     1304\n",
      "02X     1746\n",
      "02Y     1659\n",
      "03X     3195\n",
      "03Y     2562\n",
      "04X     4515\n",
      "05X     1342\n",
      "05Y      408\n",
      "06X     2580\n",
      "07X     2831\n",
      "08X     3931\n",
      "09X     2158\n",
      "10X     1557\n",
      "10Y     1573\n",
      "11X     1208\n",
      "12X     1299\n",
      "12Y     1987\n",
      "13X      630\n",
      "13Y      952\n",
      "13Z     1397\n",
      "14X     1832\n",
      "14Y     1027\n",
      "15X     1393\n",
      "16X      708\n",
      "16Y      907\n",
      "17X      969\n",
      "17Y     1482\n",
      "18X      721\n",
      "18Y     1102\n",
      "19X     3455\n",
      "20X     2702\n",
      "21X     1479\n",
      "21Y     2100\n",
      "22X     1541\n",
      "22Y     1420\n",
      "23X     3076\n",
      "24X     1704\n",
      "24Y     1454\n",
      "25X     2467\n",
      "25Y      739\n",
      "26X     1766\n",
      "26Y     3511\n",
      "27X     2333\n",
      "27Y     2517\n",
      "28X     1261\n",
      "29X     2646\n",
      "30X     3416\n",
      "30Y     3473\n",
      "31X     1439\n",
      "31Y     2460\n",
      "31Z     1268\n",
      "32X     2316\n",
      "32Y     2093\n",
      "33X     2276\n",
      "34X     2857\n",
      "35X     2328\n",
      "35Y     1159\n",
      "PDT2      16\n",
      "dtype: int64\n"
     ]
    }
   ],
   "source": [
    "grouped = df.groupby(['Beat'])\n",
    "print(grouped.size())"
   ]
  }
 ],
 "metadata": {
  "kernelspec": {
   "display_name": "Python 3",
   "language": "python",
   "name": "python3"
  },
  "language_info": {
   "codemirror_mode": {
    "name": "ipython",
    "version": 3
   },
   "file_extension": ".py",
   "mimetype": "text/x-python",
   "name": "python",
   "nbconvert_exporter": "python",
   "pygments_lexer": "ipython3",
   "version": "3.6.8"
  },
  "toc": {
   "base_numbering": 1,
   "nav_menu": {},
   "number_sections": true,
   "sideBar": true,
   "skip_h1_title": false,
   "title_cell": "Table of Contents",
   "title_sidebar": "Contents",
   "toc_cell": false,
   "toc_position": {
    "height": "calc(100% - 180px)",
    "left": "10px",
    "top": "150px",
    "width": "215px"
   },
   "toc_section_display": true,
   "toc_window_display": true
  }
 },
 "nbformat": 4,
 "nbformat_minor": 4
}
